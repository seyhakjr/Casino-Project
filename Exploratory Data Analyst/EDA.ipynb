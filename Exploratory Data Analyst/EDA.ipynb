{
 "cells": [
  {
   "cell_type": "code",
   "execution_count": 1,
   "id": "3f3a5b37-d457-4e01-a732-a2092707cc5c",
   "metadata": {},
   "outputs": [],
   "source": [
    "import numpy as np\n",
    "import pandas as pd\n",
    "import seaborn as sns\n",
    "import matplotlib.pyplot as plt\n",
    "import datetime as dt"
   ]
  },
  {
   "cell_type": "code",
   "execution_count": 2,
   "id": "590405cd-371f-40de-853a-6e039d472b6b",
   "metadata": {},
   "outputs": [],
   "source": [
    "df = pd.read_csv('dataset/Online_casino_DIB.csv')"
   ]
  },
  {
   "cell_type": "code",
   "execution_count": 3,
   "id": "e6d27e16-8fd2-4eec-99e0-fd6aead0e02d",
   "metadata": {},
   "outputs": [],
   "source": [
    "df1 = pd.read_csv('dataset/Online_sports_DIB.csv')"
   ]
  },
  {
   "cell_type": "code",
   "execution_count": 4,
   "id": "895f592e-c65e-4246-a3bf-a6dc558f9dc6",
   "metadata": {},
   "outputs": [
    {
     "data": {
      "text/html": [
       "<div>\n",
       "<style scoped>\n",
       "    .dataframe tbody tr th:only-of-type {\n",
       "        vertical-align: middle;\n",
       "    }\n",
       "\n",
       "    .dataframe tbody tr th {\n",
       "        vertical-align: top;\n",
       "    }\n",
       "\n",
       "    .dataframe thead th {\n",
       "        text-align: right;\n",
       "    }\n",
       "</style>\n",
       "<table border=\"1\" class=\"dataframe\">\n",
       "  <thead>\n",
       "    <tr style=\"text-align: right;\">\n",
       "      <th></th>\n",
       "      <th>ReqTimeUTC</th>\n",
       "      <th>TransactionType</th>\n",
       "      <th>TransactionAmount</th>\n",
       "      <th>Status</th>\n",
       "      <th>AccountIdentifier</th>\n",
       "    </tr>\n",
       "  </thead>\n",
       "  <tbody>\n",
       "    <tr>\n",
       "      <th>0</th>\n",
       "      <td>2019-07-05T05:02:28+0000</td>\n",
       "      <td>LOYALTYCARDDEBIT</td>\n",
       "      <td>10.0</td>\n",
       "      <td>APPROVED</td>\n",
       "      <td>customer1734</td>\n",
       "    </tr>\n",
       "    <tr>\n",
       "      <th>1</th>\n",
       "      <td>2019-07-05T05:26:00+0000</td>\n",
       "      <td>LOYALTYCARDDEBIT</td>\n",
       "      <td>10.0</td>\n",
       "      <td>APPROVED</td>\n",
       "      <td>customer1734</td>\n",
       "    </tr>\n",
       "    <tr>\n",
       "      <th>2</th>\n",
       "      <td>2019-07-05T04:54:35+0000</td>\n",
       "      <td>LOYALTYCARDCREDITCL</td>\n",
       "      <td>10.0</td>\n",
       "      <td>APPROVED</td>\n",
       "      <td>customer1734</td>\n",
       "    </tr>\n",
       "    <tr>\n",
       "      <th>3</th>\n",
       "      <td>2019-07-05T05:02:27+0000</td>\n",
       "      <td>LOYALTYCARDCREDITCL</td>\n",
       "      <td>10.0</td>\n",
       "      <td>APPROVED</td>\n",
       "      <td>customer1734</td>\n",
       "    </tr>\n",
       "    <tr>\n",
       "      <th>4</th>\n",
       "      <td>2019-07-05T05:25:59+0000</td>\n",
       "      <td>LOYALTYCARDCREDITCL</td>\n",
       "      <td>10.0</td>\n",
       "      <td>APPROVED</td>\n",
       "      <td>customer1734</td>\n",
       "    </tr>\n",
       "  </tbody>\n",
       "</table>\n",
       "</div>"
      ],
      "text/plain": [
       "                 ReqTimeUTC      TransactionType  TransactionAmount    Status  \\\n",
       "0  2019-07-05T05:02:28+0000     LOYALTYCARDDEBIT               10.0  APPROVED   \n",
       "1  2019-07-05T05:26:00+0000     LOYALTYCARDDEBIT               10.0  APPROVED   \n",
       "2  2019-07-05T04:54:35+0000  LOYALTYCARDCREDITCL               10.0  APPROVED   \n",
       "3  2019-07-05T05:02:27+0000  LOYALTYCARDCREDITCL               10.0  APPROVED   \n",
       "4  2019-07-05T05:25:59+0000  LOYALTYCARDCREDITCL               10.0  APPROVED   \n",
       "\n",
       "  AccountIdentifier  \n",
       "0      customer1734  \n",
       "1      customer1734  \n",
       "2      customer1734  \n",
       "3      customer1734  \n",
       "4      customer1734  "
      ]
     },
     "execution_count": 4,
     "metadata": {},
     "output_type": "execute_result"
    }
   ],
   "source": [
    "df.head(5)"
   ]
  },
  {
   "cell_type": "code",
   "execution_count": 5,
   "id": "a67aacfb-1aea-4003-bae6-d431ca5bddbc",
   "metadata": {},
   "outputs": [
    {
     "data": {
      "text/plain": [
       "ReqTimeUTC           0\n",
       "TransactionType      0\n",
       "TransactionAmount    0\n",
       "Status               0\n",
       "AccountIdentifier    0\n",
       "dtype: int64"
      ]
     },
     "execution_count": 5,
     "metadata": {},
     "output_type": "execute_result"
    }
   ],
   "source": [
    "df.isna().sum()"
   ]
  },
  {
   "cell_type": "code",
   "execution_count": 6,
   "id": "17c68be6-39a2-47dc-bc08-0b6b22266b50",
   "metadata": {},
   "outputs": [],
   "source": [
    "df.ReqTimeUTC = pd.to_datetime(df.ReqTimeUTC)"
   ]
  },
  {
   "cell_type": "code",
   "execution_count": 7,
   "id": "e9b0f65c-eff3-4465-a6e5-9b90e9b9916b",
   "metadata": {},
   "outputs": [
    {
     "data": {
      "text/html": [
       "<div>\n",
       "<style scoped>\n",
       "    .dataframe tbody tr th:only-of-type {\n",
       "        vertical-align: middle;\n",
       "    }\n",
       "\n",
       "    .dataframe tbody tr th {\n",
       "        vertical-align: top;\n",
       "    }\n",
       "\n",
       "    .dataframe thead th {\n",
       "        text-align: right;\n",
       "    }\n",
       "</style>\n",
       "<table border=\"1\" class=\"dataframe\">\n",
       "  <thead>\n",
       "    <tr style=\"text-align: right;\">\n",
       "      <th></th>\n",
       "      <th>ReqTimeUTC</th>\n",
       "      <th>TransactionType</th>\n",
       "      <th>Status</th>\n",
       "      <th>AccountIdentifier</th>\n",
       "    </tr>\n",
       "  </thead>\n",
       "  <tbody>\n",
       "    <tr>\n",
       "      <th>count</th>\n",
       "      <td>138928</td>\n",
       "      <td>138928</td>\n",
       "      <td>138928</td>\n",
       "      <td>138928</td>\n",
       "    </tr>\n",
       "    <tr>\n",
       "      <th>unique</th>\n",
       "      <td>NaN</td>\n",
       "      <td>3</td>\n",
       "      <td>2</td>\n",
       "      <td>2361</td>\n",
       "    </tr>\n",
       "    <tr>\n",
       "      <th>top</th>\n",
       "      <td>NaN</td>\n",
       "      <td>LOYALTYCARDDEBIT</td>\n",
       "      <td>APPROVED</td>\n",
       "      <td>customer10</td>\n",
       "    </tr>\n",
       "    <tr>\n",
       "      <th>freq</th>\n",
       "      <td>NaN</td>\n",
       "      <td>70329</td>\n",
       "      <td>133520</td>\n",
       "      <td>2318</td>\n",
       "    </tr>\n",
       "    <tr>\n",
       "      <th>mean</th>\n",
       "      <td>2019-08-23 14:37:01.511898112+00:00</td>\n",
       "      <td>NaN</td>\n",
       "      <td>NaN</td>\n",
       "      <td>NaN</td>\n",
       "    </tr>\n",
       "    <tr>\n",
       "      <th>min</th>\n",
       "      <td>2019-03-01 08:03:23+00:00</td>\n",
       "      <td>NaN</td>\n",
       "      <td>NaN</td>\n",
       "      <td>NaN</td>\n",
       "    </tr>\n",
       "    <tr>\n",
       "      <th>25%</th>\n",
       "      <td>2019-05-19 06:27:26.249999872+00:00</td>\n",
       "      <td>NaN</td>\n",
       "      <td>NaN</td>\n",
       "      <td>NaN</td>\n",
       "    </tr>\n",
       "    <tr>\n",
       "      <th>50%</th>\n",
       "      <td>2019-08-21 13:32:02.500000+00:00</td>\n",
       "      <td>NaN</td>\n",
       "      <td>NaN</td>\n",
       "      <td>NaN</td>\n",
       "    </tr>\n",
       "    <tr>\n",
       "      <th>75%</th>\n",
       "      <td>2019-11-23 20:28:33.500000+00:00</td>\n",
       "      <td>NaN</td>\n",
       "      <td>NaN</td>\n",
       "      <td>NaN</td>\n",
       "    </tr>\n",
       "    <tr>\n",
       "      <th>max</th>\n",
       "      <td>2020-03-02 07:47:06+00:00</td>\n",
       "      <td>NaN</td>\n",
       "      <td>NaN</td>\n",
       "      <td>NaN</td>\n",
       "    </tr>\n",
       "  </tbody>\n",
       "</table>\n",
       "</div>"
      ],
      "text/plain": [
       "                                 ReqTimeUTC   TransactionType    Status  \\\n",
       "count                                138928            138928    138928   \n",
       "unique                                  NaN                 3         2   \n",
       "top                                     NaN  LOYALTYCARDDEBIT  APPROVED   \n",
       "freq                                    NaN             70329    133520   \n",
       "mean    2019-08-23 14:37:01.511898112+00:00               NaN       NaN   \n",
       "min               2019-03-01 08:03:23+00:00               NaN       NaN   \n",
       "25%     2019-05-19 06:27:26.249999872+00:00               NaN       NaN   \n",
       "50%        2019-08-21 13:32:02.500000+00:00               NaN       NaN   \n",
       "75%        2019-11-23 20:28:33.500000+00:00               NaN       NaN   \n",
       "max               2020-03-02 07:47:06+00:00               NaN       NaN   \n",
       "\n",
       "       AccountIdentifier  \n",
       "count             138928  \n",
       "unique              2361  \n",
       "top           customer10  \n",
       "freq                2318  \n",
       "mean                 NaN  \n",
       "min                  NaN  \n",
       "25%                  NaN  \n",
       "50%                  NaN  \n",
       "75%                  NaN  \n",
       "max                  NaN  "
      ]
     },
     "execution_count": 7,
     "metadata": {},
     "output_type": "execute_result"
    }
   ],
   "source": [
    "df.describe(exclude = np.number)"
   ]
  },
  {
   "cell_type": "code",
   "execution_count": 8,
   "id": "6a783d92-3ce3-4cfe-b5e8-6f709ad73586",
   "metadata": {},
   "outputs": [
    {
     "data": {
      "text/plain": [
       "0         False\n",
       "1         False\n",
       "2         False\n",
       "3         False\n",
       "4         False\n",
       "          ...  \n",
       "138923    False\n",
       "138924    False\n",
       "138925    False\n",
       "138926    False\n",
       "138927    False\n",
       "Name: ReqTimeUTC, Length: 138928, dtype: bool"
      ]
     },
     "execution_count": 8,
     "metadata": {},
     "output_type": "execute_result"
    }
   ],
   "source": [
    "df.ReqTimeUTC > '2020-03-02 07:47:06+00:00'"
   ]
  },
  {
   "cell_type": "code",
   "execution_count": 9,
   "id": "3e653e45-81b0-4289-89c0-790758f666d6",
   "metadata": {},
   "outputs": [],
   "source": [
    "df = df[df.ReqTimeUTC <= '2020-02-29 00:00:00+00:00'].copy()"
   ]
  },
  {
   "cell_type": "code",
   "execution_count": 10,
   "id": "9dc4df68-3155-490b-a751-2bed2f710fa3",
   "metadata": {},
   "outputs": [
    {
     "data": {
      "text/html": [
       "<div>\n",
       "<style scoped>\n",
       "    .dataframe tbody tr th:only-of-type {\n",
       "        vertical-align: middle;\n",
       "    }\n",
       "\n",
       "    .dataframe tbody tr th {\n",
       "        vertical-align: top;\n",
       "    }\n",
       "\n",
       "    .dataframe thead th {\n",
       "        text-align: right;\n",
       "    }\n",
       "</style>\n",
       "<table border=\"1\" class=\"dataframe\">\n",
       "  <thead>\n",
       "    <tr style=\"text-align: right;\">\n",
       "      <th></th>\n",
       "      <th>ReqTimeUTC</th>\n",
       "      <th>TransactionType</th>\n",
       "      <th>Status</th>\n",
       "      <th>AccountIdentifier</th>\n",
       "    </tr>\n",
       "  </thead>\n",
       "  <tbody>\n",
       "    <tr>\n",
       "      <th>count</th>\n",
       "      <td>137857</td>\n",
       "      <td>137857</td>\n",
       "      <td>137857</td>\n",
       "      <td>137857</td>\n",
       "    </tr>\n",
       "    <tr>\n",
       "      <th>unique</th>\n",
       "      <td>NaN</td>\n",
       "      <td>3</td>\n",
       "      <td>2</td>\n",
       "      <td>2351</td>\n",
       "    </tr>\n",
       "    <tr>\n",
       "      <th>top</th>\n",
       "      <td>NaN</td>\n",
       "      <td>LOYALTYCARDDEBIT</td>\n",
       "      <td>APPROVED</td>\n",
       "      <td>customer10</td>\n",
       "    </tr>\n",
       "    <tr>\n",
       "      <th>freq</th>\n",
       "      <td>NaN</td>\n",
       "      <td>69795</td>\n",
       "      <td>132473</td>\n",
       "      <td>2294</td>\n",
       "    </tr>\n",
       "    <tr>\n",
       "      <th>mean</th>\n",
       "      <td>2019-08-22 03:05:44.556649216+00:00</td>\n",
       "      <td>NaN</td>\n",
       "      <td>NaN</td>\n",
       "      <td>NaN</td>\n",
       "    </tr>\n",
       "    <tr>\n",
       "      <th>min</th>\n",
       "      <td>2019-03-01 08:03:23+00:00</td>\n",
       "      <td>NaN</td>\n",
       "      <td>NaN</td>\n",
       "      <td>NaN</td>\n",
       "    </tr>\n",
       "    <tr>\n",
       "      <th>25%</th>\n",
       "      <td>2019-05-18 13:13:36+00:00</td>\n",
       "      <td>NaN</td>\n",
       "      <td>NaN</td>\n",
       "      <td>NaN</td>\n",
       "    </tr>\n",
       "    <tr>\n",
       "      <th>50%</th>\n",
       "      <td>2019-08-20 03:04:39+00:00</td>\n",
       "      <td>NaN</td>\n",
       "      <td>NaN</td>\n",
       "      <td>NaN</td>\n",
       "    </tr>\n",
       "    <tr>\n",
       "      <th>75%</th>\n",
       "      <td>2019-11-21 13:40:41+00:00</td>\n",
       "      <td>NaN</td>\n",
       "      <td>NaN</td>\n",
       "      <td>NaN</td>\n",
       "    </tr>\n",
       "    <tr>\n",
       "      <th>max</th>\n",
       "      <td>2020-02-28 23:54:14+00:00</td>\n",
       "      <td>NaN</td>\n",
       "      <td>NaN</td>\n",
       "      <td>NaN</td>\n",
       "    </tr>\n",
       "  </tbody>\n",
       "</table>\n",
       "</div>"
      ],
      "text/plain": [
       "                                 ReqTimeUTC   TransactionType    Status  \\\n",
       "count                                137857            137857    137857   \n",
       "unique                                  NaN                 3         2   \n",
       "top                                     NaN  LOYALTYCARDDEBIT  APPROVED   \n",
       "freq                                    NaN             69795    132473   \n",
       "mean    2019-08-22 03:05:44.556649216+00:00               NaN       NaN   \n",
       "min               2019-03-01 08:03:23+00:00               NaN       NaN   \n",
       "25%               2019-05-18 13:13:36+00:00               NaN       NaN   \n",
       "50%               2019-08-20 03:04:39+00:00               NaN       NaN   \n",
       "75%               2019-11-21 13:40:41+00:00               NaN       NaN   \n",
       "max               2020-02-28 23:54:14+00:00               NaN       NaN   \n",
       "\n",
       "       AccountIdentifier  \n",
       "count             137857  \n",
       "unique              2351  \n",
       "top           customer10  \n",
       "freq                2294  \n",
       "mean                 NaN  \n",
       "min                  NaN  \n",
       "25%                  NaN  \n",
       "50%                  NaN  \n",
       "75%                  NaN  \n",
       "max                  NaN  "
      ]
     },
     "execution_count": 10,
     "metadata": {},
     "output_type": "execute_result"
    }
   ],
   "source": [
    "df.describe(exclude = 'float64')"
   ]
  },
  {
   "cell_type": "code",
   "execution_count": 11,
   "id": "f03bfd26-7e62-4dac-b3c8-a2845579ec77",
   "metadata": {},
   "outputs": [
    {
     "data": {
      "text/plain": [
       "array(['LOYALTYCARDDEBIT', 'LOYALTYCARDCREDITCL', 'LOYALTYCARDCREDIT'],\n",
       "      dtype=object)"
      ]
     },
     "execution_count": 11,
     "metadata": {},
     "output_type": "execute_result"
    }
   ],
   "source": [
    "df.TransactionType.unique()"
   ]
  },
  {
   "cell_type": "code",
   "execution_count": 12,
   "id": "f438f2d2-f3f9-4387-b547-da2293e1f1b1",
   "metadata": {},
   "outputs": [
    {
     "data": {
      "text/plain": [
       "array(['APPROVED', 'DECLINED'], dtype=object)"
      ]
     },
     "execution_count": 12,
     "metadata": {},
     "output_type": "execute_result"
    }
   ],
   "source": [
    "df.Status.unique()"
   ]
  },
  {
   "cell_type": "code",
   "execution_count": 13,
   "id": "d14e315e-32ea-4b82-a1cb-40bf81d1e8f2",
   "metadata": {},
   "outputs": [],
   "source": [
    "usertype = df.groupby(['AccountIdentifier','TransactionType']).count().reset_index()\n"
   ]
  },
  {
   "cell_type": "code",
   "execution_count": 14,
   "id": "e75e9fa0-a6ab-4535-9be5-acbb1d967744",
   "metadata": {},
   "outputs": [
    {
     "data": {
      "text/html": [
       "<div>\n",
       "<style scoped>\n",
       "    .dataframe tbody tr th:only-of-type {\n",
       "        vertical-align: middle;\n",
       "    }\n",
       "\n",
       "    .dataframe tbody tr th {\n",
       "        vertical-align: top;\n",
       "    }\n",
       "\n",
       "    .dataframe thead th {\n",
       "        text-align: right;\n",
       "    }\n",
       "</style>\n",
       "<table border=\"1\" class=\"dataframe\">\n",
       "  <thead>\n",
       "    <tr style=\"text-align: right;\">\n",
       "      <th></th>\n",
       "      <th>AccountIdentifier</th>\n",
       "      <th>TransactionType</th>\n",
       "      <th>ReqTimeUTC</th>\n",
       "      <th>TransactionAmount</th>\n",
       "      <th>Status</th>\n",
       "    </tr>\n",
       "  </thead>\n",
       "  <tbody>\n",
       "    <tr>\n",
       "      <th>0</th>\n",
       "      <td>customer1</td>\n",
       "      <td>LOYALTYCARDCREDIT</td>\n",
       "      <td>2</td>\n",
       "      <td>2</td>\n",
       "      <td>2</td>\n",
       "    </tr>\n",
       "    <tr>\n",
       "      <th>1</th>\n",
       "      <td>customer1</td>\n",
       "      <td>LOYALTYCARDCREDITCL</td>\n",
       "      <td>438</td>\n",
       "      <td>438</td>\n",
       "      <td>438</td>\n",
       "    </tr>\n",
       "    <tr>\n",
       "      <th>2</th>\n",
       "      <td>customer1</td>\n",
       "      <td>LOYALTYCARDDEBIT</td>\n",
       "      <td>444</td>\n",
       "      <td>444</td>\n",
       "      <td>444</td>\n",
       "    </tr>\n",
       "    <tr>\n",
       "      <th>3</th>\n",
       "      <td>customer10</td>\n",
       "      <td>LOYALTYCARDCREDITCL</td>\n",
       "      <td>1164</td>\n",
       "      <td>1164</td>\n",
       "      <td>1164</td>\n",
       "    </tr>\n",
       "    <tr>\n",
       "      <th>4</th>\n",
       "      <td>customer10</td>\n",
       "      <td>LOYALTYCARDDEBIT</td>\n",
       "      <td>1130</td>\n",
       "      <td>1130</td>\n",
       "      <td>1130</td>\n",
       "    </tr>\n",
       "    <tr>\n",
       "      <th>...</th>\n",
       "      <td>...</td>\n",
       "      <td>...</td>\n",
       "      <td>...</td>\n",
       "      <td>...</td>\n",
       "      <td>...</td>\n",
       "    </tr>\n",
       "    <tr>\n",
       "      <th>4984</th>\n",
       "      <td>customer997</td>\n",
       "      <td>LOYALTYCARDDEBIT</td>\n",
       "      <td>1</td>\n",
       "      <td>1</td>\n",
       "      <td>1</td>\n",
       "    </tr>\n",
       "    <tr>\n",
       "      <th>4985</th>\n",
       "      <td>customer998</td>\n",
       "      <td>LOYALTYCARDCREDITCL</td>\n",
       "      <td>2</td>\n",
       "      <td>2</td>\n",
       "      <td>2</td>\n",
       "    </tr>\n",
       "    <tr>\n",
       "      <th>4986</th>\n",
       "      <td>customer998</td>\n",
       "      <td>LOYALTYCARDDEBIT</td>\n",
       "      <td>2</td>\n",
       "      <td>2</td>\n",
       "      <td>2</td>\n",
       "    </tr>\n",
       "    <tr>\n",
       "      <th>4987</th>\n",
       "      <td>customer999</td>\n",
       "      <td>LOYALTYCARDCREDITCL</td>\n",
       "      <td>2</td>\n",
       "      <td>2</td>\n",
       "      <td>2</td>\n",
       "    </tr>\n",
       "    <tr>\n",
       "      <th>4988</th>\n",
       "      <td>customer999</td>\n",
       "      <td>LOYALTYCARDDEBIT</td>\n",
       "      <td>2</td>\n",
       "      <td>2</td>\n",
       "      <td>2</td>\n",
       "    </tr>\n",
       "  </tbody>\n",
       "</table>\n",
       "<p>4989 rows × 5 columns</p>\n",
       "</div>"
      ],
      "text/plain": [
       "     AccountIdentifier      TransactionType  ReqTimeUTC  TransactionAmount  \\\n",
       "0            customer1    LOYALTYCARDCREDIT           2                  2   \n",
       "1            customer1  LOYALTYCARDCREDITCL         438                438   \n",
       "2            customer1     LOYALTYCARDDEBIT         444                444   \n",
       "3           customer10  LOYALTYCARDCREDITCL        1164               1164   \n",
       "4           customer10     LOYALTYCARDDEBIT        1130               1130   \n",
       "...                ...                  ...         ...                ...   \n",
       "4984       customer997     LOYALTYCARDDEBIT           1                  1   \n",
       "4985       customer998  LOYALTYCARDCREDITCL           2                  2   \n",
       "4986       customer998     LOYALTYCARDDEBIT           2                  2   \n",
       "4987       customer999  LOYALTYCARDCREDITCL           2                  2   \n",
       "4988       customer999     LOYALTYCARDDEBIT           2                  2   \n",
       "\n",
       "      Status  \n",
       "0          2  \n",
       "1        438  \n",
       "2        444  \n",
       "3       1164  \n",
       "4       1130  \n",
       "...      ...  \n",
       "4984       1  \n",
       "4985       2  \n",
       "4986       2  \n",
       "4987       2  \n",
       "4988       2  \n",
       "\n",
       "[4989 rows x 5 columns]"
      ]
     },
     "execution_count": 14,
     "metadata": {},
     "output_type": "execute_result"
    }
   ],
   "source": [
    "usertype"
   ]
  },
  {
   "cell_type": "code",
   "execution_count": 15,
   "id": "13c3b498-cfe9-41a2-8ee1-c8821fda4418",
   "metadata": {},
   "outputs": [
    {
     "data": {
      "text/plain": [
       "<Axes: xlabel='ReqTimeUTC', ylabel='Density'>"
      ]
     },
     "execution_count": 15,
     "metadata": {},
     "output_type": "execute_result"
    },
    {
     "data": {
      "image/png": "[encoded data removed]",
      "text/plain": [
       "<Figure size 640x480 with 1 Axes>"
      ]
     },
     "metadata": {},
     "output_type": "display_data"
    }
   ],
   "source": [
    "sns.histplot( data = usertype , x = 'ReqTimeUTC' , hue = 'TransactionType' , cumulative = True , stat = 'density', element = 'step', fill = False)"
   ]
  },
  {
   "cell_type": "code",
   "execution_count": 16,
   "id": "3da7b173-cd1e-4b7a-a97a-817d3314c235",
   "metadata": {},
   "outputs": [],
   "source": [
    "df.TransactionType = df.TransactionType.map({'LOYALTYCARDDEBIT':'L2D', 'LOYALTYCARDCREDITCL':'L1D', 'LOYALTYCARDCREDIT':'L2W'})"
   ]
  },
  {
   "cell_type": "code",
   "execution_count": 17,
   "id": "b44816c0-a5f8-4586-a6c2-04d36ed86695",
   "metadata": {},
   "outputs": [],
   "source": [
    "top20_freq = df.groupby('AccountIdentifier').count().reset_index().iloc[:,0:2].sort_values('ReqTimeUTC')[::-1][0:20]\n",
    "top20_spend = df[['AccountIdentifier','TransactionAmount']].groupby('AccountIdentifier').sum().reset_index().sort_values('TransactionAmount')[::-1][0:20]\n"
   ]
  },
  {
   "cell_type": "code",
   "execution_count": 18,
   "id": "b08964c4-4ff7-4125-83e9-79b5eb7eaf42",
   "metadata": {},
   "outputs": [
    {
     "data": {
      "text/plain": [
       "Text(0.5, 1.0, 'Top 20 Frequency Spender')"
      ]
     },
     "execution_count": 18,
     "metadata": {},
     "output_type": "execute_result"
    },
    {
     "data": {
      "image/png": "[encoded data removed]",
      "text/plain": [
       "<Figure size 1500x500 with 2 Axes>"
      ]
     },
     "metadata": {},
     "output_type": "display_data"
    }
   ],
   "source": [
    "fig ,ax = plt.subplots(ncols =2 , figsize = (15,5) )\n",
    "sns.barplot(top20_freq , x = 'ReqTimeUTC' , y = 'AccountIdentifier' , ax = ax[0] , color = 'red')\n",
    "ax[0].set_title('Top 20 Frequency Gambler')\n",
    "sns.barplot(top20_spend , x = 'TransactionAmount' , y ='AccountIdentifier' , ax = ax[1] , color = 'orange')\n",
    "ax[1].set_title('Top 20 Frequency Spender')"
   ]
  },
  {
   "cell_type": "code",
   "execution_count": 19,
   "id": "8fe3e1a5-5615-42c0-a295-aeb131a2dc2d",
   "metadata": {},
   "outputs": [],
   "source": [
    "df['Hour'] = df.ReqTimeUTC.dt.hour\n",
    "df['Day_of_week'] = df.ReqTimeUTC.dt.day_of_week"
   ]
  },
  {
   "cell_type": "code",
   "execution_count": 20,
   "id": "c8b17e00-1554-45d2-9b25-0043bf87ec25",
   "metadata": {},
   "outputs": [],
   "source": [
    "Day_of_week_dic = { 0:'Monday',\n",
    "                   1:'Tueday',\n",
    "                   3:'Wednesday',\n",
    "                   4:'Thursday',\n",
    "                   5:'Friday',\n",
    "                   6:'Saturday',\n",
    "                   7:'Sunday'}\n",
    "df['Day_of_week'] = df['Day_of_week'].map(Day_of_week_dic)"
   ]
  },
  {
   "cell_type": "code",
   "execution_count": 21,
   "id": "6a97e9c4-fe31-422a-9169-18f749168f24",
   "metadata": {},
   "outputs": [
    {
     "data": {
      "text/html": [
       "<div>\n",
       "<style scoped>\n",
       "    .dataframe tbody tr th:only-of-type {\n",
       "        vertical-align: middle;\n",
       "    }\n",
       "\n",
       "    .dataframe tbody tr th {\n",
       "        vertical-align: top;\n",
       "    }\n",
       "\n",
       "    .dataframe thead th {\n",
       "        text-align: right;\n",
       "    }\n",
       "</style>\n",
       "<table border=\"1\" class=\"dataframe\">\n",
       "  <thead>\n",
       "    <tr style=\"text-align: right;\">\n",
       "      <th></th>\n",
       "      <th>ReqTimeUTC</th>\n",
       "      <th>TransactionType</th>\n",
       "      <th>TransactionAmount</th>\n",
       "      <th>Status</th>\n",
       "      <th>AccountIdentifier</th>\n",
       "      <th>Hour</th>\n",
       "      <th>Day_of_week</th>\n",
       "    </tr>\n",
       "  </thead>\n",
       "  <tbody>\n",
       "    <tr>\n",
       "      <th>0</th>\n",
       "      <td>2019-07-05 05:02:28+00:00</td>\n",
       "      <td>L2D</td>\n",
       "      <td>10.0</td>\n",
       "      <td>APPROVED</td>\n",
       "      <td>customer1734</td>\n",
       "      <td>5</td>\n",
       "      <td>Thursday</td>\n",
       "    </tr>\n",
       "    <tr>\n",
       "      <th>1</th>\n",
       "      <td>2019-07-05 05:26:00+00:00</td>\n",
       "      <td>L2D</td>\n",
       "      <td>10.0</td>\n",
       "      <td>APPROVED</td>\n",
       "      <td>customer1734</td>\n",
       "      <td>5</td>\n",
       "      <td>Thursday</td>\n",
       "    </tr>\n",
       "  </tbody>\n",
       "</table>\n",
       "</div>"
      ],
      "text/plain": [
       "                 ReqTimeUTC TransactionType  TransactionAmount    Status  \\\n",
       "0 2019-07-05 05:02:28+00:00             L2D               10.0  APPROVED   \n",
       "1 2019-07-05 05:26:00+00:00             L2D               10.0  APPROVED   \n",
       "\n",
       "  AccountIdentifier  Hour Day_of_week  \n",
       "0      customer1734     5    Thursday  \n",
       "1      customer1734     5    Thursday  "
      ]
     },
     "execution_count": 21,
     "metadata": {},
     "output_type": "execute_result"
    }
   ],
   "source": [
    "df.head(2)"
   ]
  },
  {
   "cell_type": "code",
   "execution_count": 22,
   "id": "d50aa38f-f740-4294-b9fb-2375b5813c61",
   "metadata": {},
   "outputs": [],
   "source": [
    "h_d_t = df[['Hour','Day_of_week','TransactionType']].groupby(['Hour','Day_of_week']).count().reset_index()\n",
    "casino_dt = pd.pivot_table( h_d_t , values = 'TransactionType' , index = 'Day_of_week' , columns = 'Hour')\n"
   ]
  },
  {
   "cell_type": "code",
   "execution_count": 23,
   "id": "70a42745-c860-4216-8c2e-32efb9f026db",
   "metadata": {},
   "outputs": [
    {
     "data": {
      "text/plain": [
       "<Axes: xlabel='Hour', ylabel='Day_of_week'>"
      ]
     },
     "execution_count": 23,
     "metadata": {},
     "output_type": "execute_result"
    },
    {
     "data": {
      "image/png": "[encoded data removed]",
      "text/plain": [
       "<Figure size 640x480 with 2 Axes>"
      ]
     },
     "metadata": {},
     "output_type": "display_data"
    }
   ],
   "source": [
    "sns.heatmap(casino_dt)"
   ]
  },
  {
   "cell_type": "code",
   "execution_count": 24,
   "id": "78bfb935-8118-4057-be22-92290ed24646",
   "metadata": {},
   "outputs": [
    {
     "name": "stderr",
     "output_type": "stream",
     "text": [
      "C:\\Users\\seyhak jr\\AppData\\Local\\Temp\\ipykernel_20232\\2807622588.py:1: UserWarning: Converting to PeriodArray/Index representation will drop timezone information.\n",
      "  df['ReqTimeUTC'] = df['ReqTimeUTC'].dt.to_period('D')\n"
     ]
    }
   ],
   "source": [
    "df['ReqTimeUTC'] = df['ReqTimeUTC'].dt.to_period('D')"
   ]
  },
  {
   "cell_type": "code",
   "execution_count": 25,
   "id": "6cdf62be-cbd1-4669-8859-4eb370ff5713",
   "metadata": {},
   "outputs": [
    {
     "data": {
      "text/html": [
       "<div>\n",
       "<style scoped>\n",
       "    .dataframe tbody tr th:only-of-type {\n",
       "        vertical-align: middle;\n",
       "    }\n",
       "\n",
       "    .dataframe tbody tr th {\n",
       "        vertical-align: top;\n",
       "    }\n",
       "\n",
       "    .dataframe thead th {\n",
       "        text-align: right;\n",
       "    }\n",
       "</style>\n",
       "<table border=\"1\" class=\"dataframe\">\n",
       "  <thead>\n",
       "    <tr style=\"text-align: right;\">\n",
       "      <th></th>\n",
       "      <th>ReqTimeUTC</th>\n",
       "      <th>AccountIdentifier</th>\n",
       "      <th>TransactionType</th>\n",
       "      <th>TransactionAmount</th>\n",
       "    </tr>\n",
       "  </thead>\n",
       "  <tbody>\n",
       "    <tr>\n",
       "      <th>0</th>\n",
       "      <td>2019-03-01</td>\n",
       "      <td>customer1</td>\n",
       "      <td>6</td>\n",
       "      <td>240.00</td>\n",
       "    </tr>\n",
       "    <tr>\n",
       "      <th>1</th>\n",
       "      <td>2019-03-01</td>\n",
       "      <td>customer102</td>\n",
       "      <td>14</td>\n",
       "      <td>240.00</td>\n",
       "    </tr>\n",
       "    <tr>\n",
       "      <th>2</th>\n",
       "      <td>2019-03-01</td>\n",
       "      <td>customer1040</td>\n",
       "      <td>2</td>\n",
       "      <td>20.00</td>\n",
       "    </tr>\n",
       "    <tr>\n",
       "      <th>3</th>\n",
       "      <td>2019-03-01</td>\n",
       "      <td>customer105</td>\n",
       "      <td>4</td>\n",
       "      <td>300.00</td>\n",
       "    </tr>\n",
       "    <tr>\n",
       "      <th>4</th>\n",
       "      <td>2019-03-01</td>\n",
       "      <td>customer1055</td>\n",
       "      <td>2</td>\n",
       "      <td>100.00</td>\n",
       "    </tr>\n",
       "    <tr>\n",
       "      <th>...</th>\n",
       "      <td>...</td>\n",
       "      <td>...</td>\n",
       "      <td>...</td>\n",
       "      <td>...</td>\n",
       "    </tr>\n",
       "    <tr>\n",
       "      <th>30575</th>\n",
       "      <td>2020-02-28</td>\n",
       "      <td>customer96</td>\n",
       "      <td>9</td>\n",
       "      <td>151.93</td>\n",
       "    </tr>\n",
       "    <tr>\n",
       "      <th>30576</th>\n",
       "      <td>2020-02-28</td>\n",
       "      <td>customer966</td>\n",
       "      <td>4</td>\n",
       "      <td>400.00</td>\n",
       "    </tr>\n",
       "    <tr>\n",
       "      <th>30577</th>\n",
       "      <td>2020-02-28</td>\n",
       "      <td>customer971</td>\n",
       "      <td>6</td>\n",
       "      <td>280.00</td>\n",
       "    </tr>\n",
       "    <tr>\n",
       "      <th>30578</th>\n",
       "      <td>2020-02-28</td>\n",
       "      <td>customer99</td>\n",
       "      <td>10</td>\n",
       "      <td>330.00</td>\n",
       "    </tr>\n",
       "    <tr>\n",
       "      <th>30579</th>\n",
       "      <td>2020-02-28</td>\n",
       "      <td>customer995</td>\n",
       "      <td>2</td>\n",
       "      <td>197.00</td>\n",
       "    </tr>\n",
       "  </tbody>\n",
       "</table>\n",
       "<p>30580 rows × 4 columns</p>\n",
       "</div>"
      ],
      "text/plain": [
       "       ReqTimeUTC AccountIdentifier  TransactionType  TransactionAmount\n",
       "0      2019-03-01         customer1                6             240.00\n",
       "1      2019-03-01       customer102               14             240.00\n",
       "2      2019-03-01      customer1040                2              20.00\n",
       "3      2019-03-01       customer105                4             300.00\n",
       "4      2019-03-01      customer1055                2             100.00\n",
       "...           ...               ...              ...                ...\n",
       "30575  2020-02-28        customer96                9             151.93\n",
       "30576  2020-02-28       customer966                4             400.00\n",
       "30577  2020-02-28       customer971                6             280.00\n",
       "30578  2020-02-28        customer99               10             330.00\n",
       "30579  2020-02-28       customer995                2             197.00\n",
       "\n",
       "[30580 rows x 4 columns]"
      ]
     },
     "execution_count": 25,
     "metadata": {},
     "output_type": "execute_result"
    }
   ],
   "source": [
    "daily_activity = df.groupby(['ReqTimeUTC','AccountIdentifier']).agg({\n",
    "    'TransactionType':'count',\n",
    "    'TransactionAmount':'sum'\n",
    "}).reset_index()\n",
    "daily_activity"
   ]
  },
  {
   "cell_type": "code",
   "execution_count": 46,
   "id": "b20c2a03-a940-4291-a6cd-b008ace40f04",
   "metadata": {},
   "outputs": [
    {
     "data": {
      "text/html": [
       "<div>\n",
       "<style scoped>\n",
       "    .dataframe tbody tr th:only-of-type {\n",
       "        vertical-align: middle;\n",
       "    }\n",
       "\n",
       "    .dataframe tbody tr th {\n",
       "        vertical-align: top;\n",
       "    }\n",
       "\n",
       "    .dataframe thead th {\n",
       "        text-align: right;\n",
       "    }\n",
       "</style>\n",
       "<table border=\"1\" class=\"dataframe\">\n",
       "  <thead>\n",
       "    <tr style=\"text-align: right;\">\n",
       "      <th></th>\n",
       "      <th>ReqTimeUTC</th>\n",
       "      <th>AccountIdentifier</th>\n",
       "      <th>TransactionType</th>\n",
       "      <th>TransactionAmount</th>\n",
       "    </tr>\n",
       "  </thead>\n",
       "  <tbody>\n",
       "    <tr>\n",
       "      <th>0</th>\n",
       "      <td>2019-03-01</td>\n",
       "      <td>customer1</td>\n",
       "      <td>6</td>\n",
       "      <td>240.0</td>\n",
       "    </tr>\n",
       "    <tr>\n",
       "      <th>102</th>\n",
       "      <td>2019-03-02</td>\n",
       "      <td>customer1</td>\n",
       "      <td>4</td>\n",
       "      <td>250.0</td>\n",
       "    </tr>\n",
       "    <tr>\n",
       "      <th>266</th>\n",
       "      <td>2019-03-03</td>\n",
       "      <td>customer1</td>\n",
       "      <td>4</td>\n",
       "      <td>400.0</td>\n",
       "    </tr>\n",
       "    <tr>\n",
       "      <th>409</th>\n",
       "      <td>2019-03-04</td>\n",
       "      <td>customer1</td>\n",
       "      <td>6</td>\n",
       "      <td>320.0</td>\n",
       "    </tr>\n",
       "    <tr>\n",
       "      <th>515</th>\n",
       "      <td>2019-03-05</td>\n",
       "      <td>customer1</td>\n",
       "      <td>6</td>\n",
       "      <td>480.0</td>\n",
       "    </tr>\n",
       "  </tbody>\n",
       "</table>\n",
       "</div>"
      ],
      "text/plain": [
       "     ReqTimeUTC AccountIdentifier  TransactionType  TransactionAmount\n",
       "0    2019-03-01         customer1                6              240.0\n",
       "102  2019-03-02         customer1                4              250.0\n",
       "266  2019-03-03         customer1                4              400.0\n",
       "409  2019-03-04         customer1                6              320.0\n",
       "515  2019-03-05         customer1                6              480.0"
      ]
     },
     "execution_count": 46,
     "metadata": {},
     "output_type": "execute_result"
    }
   ],
   "source": [
    "customer_df = daily_activity[daily_activity.AccountIdentifier == 'customer1'] \n",
    "# full_range = pd.date_range(customer_df.ReqTimeUTC.min().to_timestamp() , customer_df.ReqTimeUTC.max().to_timestamp() , freq = 'D')\n",
    "# customer_df = customer_df.set_index('ReqTimeUTC')\n",
    "# customer_df = customer_df.reindex(list('full_range') , fill_value = 0)\n",
    "customer_df.head(5)"
   ]
  },
  {
   "cell_type": "code",
   "execution_count": 45,
   "id": "5cbf82aa-5b3e-4d0a-b08a-abb389d2806c",
   "metadata": {},
   "outputs": [
    {
     "data": {
      "text/plain": [
       "ReqTimeUTC           0\n",
       "AccountIdentifier    0\n",
       "TransactionType      0\n",
       "TransactionAmount    0\n",
       "dtype: int64"
      ]
     },
     "execution_count": 45,
     "metadata": {},
     "output_type": "execute_result"
    }
   ],
   "source": [
    "daily_activity.isna().sum()"
   ]
  },
  {
   "cell_type": "code",
   "execution_count": 59,
   "id": "e4715586-f1f0-4f0a-9e9f-ff729db926e3",
   "metadata": {},
   "outputs": [],
   "source": [
    "c1 = daily_activity[daily_activity.AccountIdentifier==\"customer1\"][0:20]\n",
    "c1['ReqTimeUTC'] = c1['ReqTimeUTC'].dt.to_timestamp()"
   ]
  },
  {
   "cell_type": "code",
   "execution_count": 64,
   "id": "0de35d4a-fa96-4f0a-9a29-af75495b8c3e",
   "metadata": {},
   "outputs": [
    {
     "data": {
      "image/png": "[encoded data removed]",
      "text/plain": [
       "<Figure size 1000x800 with 1 Axes>"
      ]
     },
     "metadata": {},
     "output_type": "display_data"
    }
   ],
   "source": [
    "plt.figure(figsize=(10,8))\n",
    "sns.lineplot(data=c1, x='ReqTimeUTC', y='TransactionAmount')\n",
    "plt.show()\n"
   ]
  },
  {
   "cell_type": "code",
   "execution_count": 75,
   "id": "af1e61e4-b1a4-4d5f-b4e7-f5b55b9a630f",
   "metadata": {},
   "outputs": [],
   "source": [
    "daily_activity['Month'] = daily_activity['ReqTimeUTC'].dt.asfreq('M')\n",
    "customer_month = daily_activity.groupby(['Month','AccountIdentifier']).count().reset_index().iloc[:,0:2]\n",
    "start_date = customer_month.groupby('AccountIdentifier').min().reset_index()\n",
    "end_date = customer_month.groupby('AccountIdentifier').max().reset_index()\n",
    "start_end = pd.merge(start_date , end_date , on = 'AccountIdentifier')\n",
    "\n",
    "\n"
   ]
  },
  {
   "cell_type": "code",
   "execution_count": 84,
   "id": "bdad1d51-f05d-463e-8abe-f33de7511c43",
   "metadata": {},
   "outputs": [
    {
     "data": {
      "text/html": [
       "<div>\n",
       "<style scoped>\n",
       "    .dataframe tbody tr th:only-of-type {\n",
       "        vertical-align: middle;\n",
       "    }\n",
       "\n",
       "    .dataframe tbody tr th {\n",
       "        vertical-align: top;\n",
       "    }\n",
       "\n",
       "    .dataframe thead th {\n",
       "        text-align: right;\n",
       "    }\n",
       "</style>\n",
       "<table border=\"1\" class=\"dataframe\">\n",
       "  <thead>\n",
       "    <tr style=\"text-align: right;\">\n",
       "      <th></th>\n",
       "      <th>Month_x</th>\n",
       "      <th>Month_y</th>\n",
       "      <th>AccountIdentifier</th>\n",
       "    </tr>\n",
       "  </thead>\n",
       "  <tbody>\n",
       "    <tr>\n",
       "      <th>0</th>\n",
       "      <td>2019-03</td>\n",
       "      <td>2019-03</td>\n",
       "      <td>279</td>\n",
       "    </tr>\n",
       "    <tr>\n",
       "      <th>1</th>\n",
       "      <td>2019-03</td>\n",
       "      <td>2019-04</td>\n",
       "      <td>60</td>\n",
       "    </tr>\n",
       "  </tbody>\n",
       "</table>\n",
       "</div>"
      ],
      "text/plain": [
       "   Month_x  Month_y  AccountIdentifier\n",
       "0  2019-03  2019-03                279\n",
       "1  2019-03  2019-04                 60"
      ]
     },
     "execution_count": 84,
     "metadata": {},
     "output_type": "execute_result"
    }
   ],
   "source": [
    "num_date = start_end.groupby(['Month_x','Month_y']).count().reset_index()\n",
    "num_date.iloc[0:2]"
   ]
  },
  {
   "cell_type": "code",
   "execution_count": 95,
   "id": "7067af45-e6a2-40a5-994b-edcc5dc199ce",
   "metadata": {},
   "outputs": [],
   "source": [
    "fast_quiter = num_date[ num_date.Month_x == num_date.Month_y ]\n",
    "soure_target =  num_date[ num_date.Month_x != num_date.Month_y ]"
   ]
  },
  {
   "cell_type": "code",
   "execution_count": 96,
   "id": "823a381e-1a82-43dd-be63-c4d92f265935",
   "metadata": {},
   "outputs": [
    {
     "data": {
      "text/html": [
       "<div>\n",
       "<style scoped>\n",
       "    .dataframe tbody tr th:only-of-type {\n",
       "        vertical-align: middle;\n",
       "    }\n",
       "\n",
       "    .dataframe tbody tr th {\n",
       "        vertical-align: top;\n",
       "    }\n",
       "\n",
       "    .dataframe thead th {\n",
       "        text-align: right;\n",
       "    }\n",
       "</style>\n",
       "<table border=\"1\" class=\"dataframe\">\n",
       "  <thead>\n",
       "    <tr style=\"text-align: right;\">\n",
       "      <th></th>\n",
       "      <th>Month_x</th>\n",
       "      <th>Month_y</th>\n",
       "      <th>AccountIdentifier</th>\n",
       "    </tr>\n",
       "  </thead>\n",
       "  <tbody>\n",
       "    <tr>\n",
       "      <th>0</th>\n",
       "      <td>2019-03</td>\n",
       "      <td>2019-03</td>\n",
       "      <td>279</td>\n",
       "    </tr>\n",
       "    <tr>\n",
       "      <th>12</th>\n",
       "      <td>2019-04</td>\n",
       "      <td>2019-04</td>\n",
       "      <td>90</td>\n",
       "    </tr>\n",
       "  </tbody>\n",
       "</table>\n",
       "</div>"
      ],
      "text/plain": [
       "    Month_x  Month_y  AccountIdentifier\n",
       "0   2019-03  2019-03                279\n",
       "12  2019-04  2019-04                 90"
      ]
     },
     "execution_count": 96,
     "metadata": {},
     "output_type": "execute_result"
    }
   ],
   "source": [
    "fast_quiter.head(2)"
   ]
  },
  {
   "cell_type": "code",
   "execution_count": 90,
   "id": "bfc6ae77-8ce3-4ce2-afb5-0fc3e2a1e6c8",
   "metadata": {},
   "outputs": [
    {
     "data": {
      "text/html": [
       "<div>\n",
       "<style scoped>\n",
       "    .dataframe tbody tr th:only-of-type {\n",
       "        vertical-align: middle;\n",
       "    }\n",
       "\n",
       "    .dataframe tbody tr th {\n",
       "        vertical-align: top;\n",
       "    }\n",
       "\n",
       "    .dataframe thead th {\n",
       "        text-align: right;\n",
       "    }\n",
       "</style>\n",
       "<table border=\"1\" class=\"dataframe\">\n",
       "  <thead>\n",
       "    <tr style=\"text-align: right;\">\n",
       "      <th></th>\n",
       "      <th>Month_x</th>\n",
       "      <th>Month_y</th>\n",
       "      <th>AccountIdentifier</th>\n",
       "    </tr>\n",
       "  </thead>\n",
       "  <tbody>\n",
       "    <tr>\n",
       "      <th>1</th>\n",
       "      <td>2019-03</td>\n",
       "      <td>2019-04</td>\n",
       "      <td>60</td>\n",
       "    </tr>\n",
       "    <tr>\n",
       "      <th>2</th>\n",
       "      <td>2019-03</td>\n",
       "      <td>2019-05</td>\n",
       "      <td>47</td>\n",
       "    </tr>\n",
       "  </tbody>\n",
       "</table>\n",
       "</div>"
      ],
      "text/plain": [
       "   Month_x  Month_y  AccountIdentifier\n",
       "1  2019-03  2019-04                 60\n",
       "2  2019-03  2019-05                 47"
      ]
     },
     "execution_count": 90,
     "metadata": {},
     "output_type": "execute_result"
    }
   ],
   "source": [
    "soure_target.head(2)"
   ]
  },
  {
   "cell_type": "markdown",
   "id": "7ab40a36-9770-4605-a1f3-2078263fbb57",
   "metadata": {},
   "source": [
    "Total of Customer who deposit money in every month"
   ]
  },
  {
   "cell_type": "code",
   "execution_count": 100,
   "id": "cf2df0e8-ba46-40ae-a576-71ef27b99fed",
   "metadata": {},
   "outputs": [
    {
     "data": {
      "text/html": [
       "<div>\n",
       "<style scoped>\n",
       "    .dataframe tbody tr th:only-of-type {\n",
       "        vertical-align: middle;\n",
       "    }\n",
       "\n",
       "    .dataframe tbody tr th {\n",
       "        vertical-align: top;\n",
       "    }\n",
       "\n",
       "    .dataframe thead th {\n",
       "        text-align: right;\n",
       "    }\n",
       "</style>\n",
       "<table border=\"1\" class=\"dataframe\">\n",
       "  <thead>\n",
       "    <tr style=\"text-align: right;\">\n",
       "      <th></th>\n",
       "      <th>Month</th>\n",
       "      <th>AccountIdentifier</th>\n",
       "    </tr>\n",
       "  </thead>\n",
       "  <tbody>\n",
       "    <tr>\n",
       "      <th>0</th>\n",
       "      <td>2019-03</td>\n",
       "      <td>768</td>\n",
       "    </tr>\n",
       "    <tr>\n",
       "      <th>1</th>\n",
       "      <td>2019-04</td>\n",
       "      <td>576</td>\n",
       "    </tr>\n",
       "  </tbody>\n",
       "</table>\n",
       "</div>"
      ],
      "text/plain": [
       "     Month  AccountIdentifier\n",
       "0  2019-03                768\n",
       "1  2019-04                576"
      ]
     },
     "execution_count": 100,
     "metadata": {},
     "output_type": "execute_result"
    }
   ],
   "source": [
    "tc_df = customer_month.groupby('Month').count().reset_index()\n",
    "tc_df.head(2)"
   ]
  },
  {
   "cell_type": "markdown",
   "id": "bd63b251-892a-4276-be99-1e82b279d4b3",
   "metadata": {},
   "source": [
    "Total of Customer who deposit money in one month"
   ]
  },
  {
   "cell_type": "code",
   "execution_count": 99,
   "id": "6393a8a9-96ca-46b4-be3e-04a242a484a4",
   "metadata": {},
   "outputs": [
    {
     "data": {
      "text/html": [
       "<div>\n",
       "<style scoped>\n",
       "    .dataframe tbody tr th:only-of-type {\n",
       "        vertical-align: middle;\n",
       "    }\n",
       "\n",
       "    .dataframe tbody tr th {\n",
       "        vertical-align: top;\n",
       "    }\n",
       "\n",
       "    .dataframe thead th {\n",
       "        text-align: right;\n",
       "    }\n",
       "</style>\n",
       "<table border=\"1\" class=\"dataframe\">\n",
       "  <thead>\n",
       "    <tr style=\"text-align: right;\">\n",
       "      <th></th>\n",
       "      <th>Month_x</th>\n",
       "      <th>AccountIdentifier</th>\n",
       "    </tr>\n",
       "  </thead>\n",
       "  <tbody>\n",
       "    <tr>\n",
       "      <th>0</th>\n",
       "      <td>2019-03</td>\n",
       "      <td>279</td>\n",
       "    </tr>\n",
       "    <tr>\n",
       "      <th>12</th>\n",
       "      <td>2019-04</td>\n",
       "      <td>90</td>\n",
       "    </tr>\n",
       "  </tbody>\n",
       "</table>\n",
       "</div>"
      ],
      "text/plain": [
       "    Month_x  AccountIdentifier\n",
       "0   2019-03                279\n",
       "12  2019-04                 90"
      ]
     },
     "execution_count": 99,
     "metadata": {},
     "output_type": "execute_result"
    }
   ],
   "source": [
    "fq_df = fast_quiter[[\"Month_x\", \"AccountIdentifier\"]]\n",
    "fq_df.head(2)"
   ]
  },
  {
   "cell_type": "code",
   "execution_count": 105,
   "id": "ee7a8788-7821-4775-bdf9-7bae74420d89",
   "metadata": {},
   "outputs": [
    {
     "data": {
      "text/html": [
       "<div>\n",
       "<style scoped>\n",
       "    .dataframe tbody tr th:only-of-type {\n",
       "        vertical-align: middle;\n",
       "    }\n",
       "\n",
       "    .dataframe tbody tr th {\n",
       "        vertical-align: top;\n",
       "    }\n",
       "\n",
       "    .dataframe thead th {\n",
       "        text-align: right;\n",
       "    }\n",
       "</style>\n",
       "<table border=\"1\" class=\"dataframe\">\n",
       "  <thead>\n",
       "    <tr style=\"text-align: right;\">\n",
       "      <th></th>\n",
       "      <th>Total</th>\n",
       "      <th>Month</th>\n",
       "      <th>Quit</th>\n",
       "    </tr>\n",
       "  </thead>\n",
       "  <tbody>\n",
       "    <tr>\n",
       "      <th>0</th>\n",
       "      <td>768</td>\n",
       "      <td>2019-03</td>\n",
       "      <td>279</td>\n",
       "    </tr>\n",
       "    <tr>\n",
       "      <th>1</th>\n",
       "      <td>576</td>\n",
       "      <td>2019-04</td>\n",
       "      <td>90</td>\n",
       "    </tr>\n",
       "    <tr>\n",
       "      <th>2</th>\n",
       "      <td>579</td>\n",
       "      <td>2019-05</td>\n",
       "      <td>99</td>\n",
       "    </tr>\n",
       "    <tr>\n",
       "      <th>3</th>\n",
       "      <td>545</td>\n",
       "      <td>2019-06</td>\n",
       "      <td>81</td>\n",
       "    </tr>\n",
       "    <tr>\n",
       "      <th>4</th>\n",
       "      <td>540</td>\n",
       "      <td>2019-07</td>\n",
       "      <td>96</td>\n",
       "    </tr>\n",
       "    <tr>\n",
       "      <th>5</th>\n",
       "      <td>500</td>\n",
       "      <td>2019-08</td>\n",
       "      <td>85</td>\n",
       "    </tr>\n",
       "    <tr>\n",
       "      <th>6</th>\n",
       "      <td>464</td>\n",
       "      <td>2019-09</td>\n",
       "      <td>71</td>\n",
       "    </tr>\n",
       "    <tr>\n",
       "      <th>7</th>\n",
       "      <td>463</td>\n",
       "      <td>2019-10</td>\n",
       "      <td>67</td>\n",
       "    </tr>\n",
       "    <tr>\n",
       "      <th>8</th>\n",
       "      <td>458</td>\n",
       "      <td>2019-11</td>\n",
       "      <td>68</td>\n",
       "    </tr>\n",
       "    <tr>\n",
       "      <th>9</th>\n",
       "      <td>488</td>\n",
       "      <td>2019-12</td>\n",
       "      <td>92</td>\n",
       "    </tr>\n",
       "    <tr>\n",
       "      <th>10</th>\n",
       "      <td>507</td>\n",
       "      <td>2020-01</td>\n",
       "      <td>137</td>\n",
       "    </tr>\n",
       "    <tr>\n",
       "      <th>11</th>\n",
       "      <td>484</td>\n",
       "      <td>2020-02</td>\n",
       "      <td>126</td>\n",
       "    </tr>\n",
       "  </tbody>\n",
       "</table>\n",
       "</div>"
      ],
      "text/plain": [
       "    Total    Month  Quit\n",
       "0     768  2019-03   279\n",
       "1     576  2019-04    90\n",
       "2     579  2019-05    99\n",
       "3     545  2019-06    81\n",
       "4     540  2019-07    96\n",
       "5     500  2019-08    85\n",
       "6     464  2019-09    71\n",
       "7     463  2019-10    67\n",
       "8     458  2019-11    68\n",
       "9     488  2019-12    92\n",
       "10    507  2020-01   137\n",
       "11    484  2020-02   126"
      ]
     },
     "execution_count": 105,
     "metadata": {},
     "output_type": "execute_result"
    }
   ],
   "source": [
    "q_t = pd.merge(tc_df , fq_df , right_on = 'Month_x' , left_on = 'Month')[['AccountIdentifier_x','Month','AccountIdentifier_y']]\n",
    "q_t.rename( columns = {'Month':'Month','AccountIdentifier_x':'Total', 'AccountIdentifier_y':'Quit'} , inplace = True)\n",
    "q_t"
   ]
  },
  {
   "cell_type": "code",
   "execution_count": 111,
   "id": "e05e47fc-eebf-48c7-924f-d28239150df3",
   "metadata": {},
   "outputs": [
    {
     "data": {
      "text/html": [
       "<div>\n",
       "<style scoped>\n",
       "    .dataframe tbody tr th:only-of-type {\n",
       "        vertical-align: middle;\n",
       "    }\n",
       "\n",
       "    .dataframe tbody tr th {\n",
       "        vertical-align: top;\n",
       "    }\n",
       "\n",
       "    .dataframe thead th {\n",
       "        text-align: right;\n",
       "    }\n",
       "</style>\n",
       "<table border=\"1\" class=\"dataframe\">\n",
       "  <thead>\n",
       "    <tr style=\"text-align: right;\">\n",
       "      <th></th>\n",
       "      <th>Month</th>\n",
       "      <th>Customer</th>\n",
       "      <th>Number of Customer</th>\n",
       "    </tr>\n",
       "  </thead>\n",
       "  <tbody>\n",
       "    <tr>\n",
       "      <th>0</th>\n",
       "      <td>2019-03</td>\n",
       "      <td>Total</td>\n",
       "      <td>768</td>\n",
       "    </tr>\n",
       "    <tr>\n",
       "      <th>1</th>\n",
       "      <td>2019-04</td>\n",
       "      <td>Total</td>\n",
       "      <td>576</td>\n",
       "    </tr>\n",
       "    <tr>\n",
       "      <th>2</th>\n",
       "      <td>2019-05</td>\n",
       "      <td>Total</td>\n",
       "      <td>579</td>\n",
       "    </tr>\n",
       "    <tr>\n",
       "      <th>3</th>\n",
       "      <td>2019-06</td>\n",
       "      <td>Total</td>\n",
       "      <td>545</td>\n",
       "    </tr>\n",
       "    <tr>\n",
       "      <th>4</th>\n",
       "      <td>2019-07</td>\n",
       "      <td>Total</td>\n",
       "      <td>540</td>\n",
       "    </tr>\n",
       "  </tbody>\n",
       "</table>\n",
       "</div>"
      ],
      "text/plain": [
       "     Month Customer  Number of Customer\n",
       "0  2019-03    Total                 768\n",
       "1  2019-04    Total                 576\n",
       "2  2019-05    Total                 579\n",
       "3  2019-06    Total                 545\n",
       "4  2019-07    Total                 540"
      ]
     },
     "execution_count": 111,
     "metadata": {},
     "output_type": "execute_result"
    }
   ],
   "source": [
    "monthly_customer = q_t.melt(id_vars = 'Month').rename(columns = {'variable':'Customer','value':'Number of Customer'})\n",
    "monthly_customer.head(5)"
   ]
  },
  {
   "cell_type": "code",
   "execution_count": 112,
   "id": "f2173489-f6c4-423a-bc5c-cacdb91e9c95",
   "metadata": {},
   "outputs": [
    {
     "data": {
      "text/plain": [
       "Text(0, 0.5, 'The Number Of Customer')"
      ]
     },
     "execution_count": 112,
     "metadata": {},
     "output_type": "execute_result"
    },
    {
     "data": {
      "image/png": "[encoded data removed]",
      "text/plain": [
       "<Figure size 1500x1000 with 1 Axes>"
      ]
     },
     "metadata": {},
     "output_type": "display_data"
    }
   ],
   "source": [
    "plt.figure(figsize=(15,10))\n",
    "sns.barplot( monthly_customer , x = 'Month' , y = 'Number of Customer' , hue = 'Customer')\n",
    "plt.title('Total Monthly Customer')\n",
    "plt.xlabel('Month Deposit')\n",
    "plt.ylabel('The Number Of Customer')"
   ]
  },
  {
   "cell_type": "code",
   "execution_count": null,
   "id": "52435d32-9c5f-4e86-8bff-5e02b2289387",
   "metadata": {},
   "outputs": [],
   "source": []
  }
 ],
 "metadata": {
  "kernelspec": {
   "display_name": "Python 3 (ipykernel)",
   "language": "python",
   "name": "python3"
  },
  "language_info": {
   "codemirror_mode": {
    "name": "ipython",
    "version": 3
   },
   "file_extension": ".py",
   "mimetype": "text/x-python",
   "name": "python",
   "nbconvert_exporter": "python",
   "pygments_lexer": "ipython3",
   "version": "3.12.2"
  }
 },
 "nbformat": 4,
 "nbformat_minor": 5
}
